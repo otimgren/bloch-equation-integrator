{
 "cells": [
  {
   "cell_type": "code",
   "execution_count": null,
   "metadata": {},
   "outputs": [],
   "source": [
    "#Import packages\n",
    "%load_ext autoreload\n",
    "%autoreload 2\n",
    "import sys\n",
    "import numpy as np\n",
    "sys.path.append('./molecular-state-classes-and-functions/')\n",
    "from classes import UncoupledBasisState, CoupledBasisState, State\n",
    "from functions import make_hamiltonian, make_hamiltonian_B, make_QN, ni_range, vector_to_state, matrix_to_states\n",
    "from functions import find_state_idx_from_state\n",
    "import pickle\n",
    "from OBE_functions import *\n",
    "import scipy\n",
    "\n",
    "import matplotlib.pyplot as plt\n",
    "%matplotlib notebook"
   ]
  },
  {
   "cell_type": "markdown",
   "metadata": {},
   "source": [
    "## X-state Hamiltonian\n",
    "Load the X-state hamiltonian from file and transform it to the coupled basis"
   ]
  },
  {
   "cell_type": "code",
   "execution_count": null,
   "metadata": {},
   "outputs": [],
   "source": [
    "H_X_uc = make_hamiltonian(\"./utilities/TlF_X_state_hamiltonian0to3_2020_03_03.pickle\")"
   ]
  },
  {
   "cell_type": "code",
   "execution_count": null,
   "metadata": {},
   "outputs": [],
   "source": [
    "#Generate lists of quantum numbers\n",
    "QN_X_uncoupled = make_QN(0,3,1/2,1/2)\n",
    "\n",
    "Jmin = 0\n",
    "Jmax = 3\n",
    "I_F = 1/2\n",
    "I_Tl = 1/2\n",
    "QN_X = [CoupledBasisState(F,mF,F1,J,I_F,I_Tl, electronic_state='X', P = (-1)**J, Omega = 0)\n",
    "      for J  in ni_range(Jmin, Jmax+1)\n",
    "      for F1 in ni_range(np.abs(J-I_F),J+I_F+1)\n",
    "      for F in ni_range(np.abs(F1-I_Tl),F1+I_Tl+1)\n",
    "      for mF in ni_range(-F, F+1)\n",
    "     ]"
   ]
  },
  {
   "cell_type": "code",
   "execution_count": null,
   "metadata": {},
   "outputs": [],
   "source": [
    "### Transform Hamiltonian to coupled basis ###\n",
    "#Load transform matrix\n",
    "with open(\"./utilities/UC_to_C.pickle\",\"rb\") as f:\n",
    "    S_trans = pickle.load(f)"
   ]
  },
  {
   "cell_type": "code",
   "execution_count": null,
   "metadata": {},
   "outputs": [],
   "source": [
    "#Transform matrix\n",
    "E = np.array((0,0,0))\n",
    "B = np.array((0,0,0.001))\n",
    "H_X =  S_trans.conj().T @ H_X_uc(E, B) @ S_trans"
   ]
  },
  {
   "cell_type": "code",
   "execution_count": null,
   "metadata": {},
   "outputs": [],
   "source": [
    "D, V = np.linalg.eigh(H_X)\n",
    "\n",
    "#Diagonalize the Hamiltonian\n",
    "H_X_diag = V.conj().T @ H_X @ V\n",
    "\n",
    "#New set of quantum numbers:\n",
    "QN_X_diag = matrix_to_states(V, QN_X)\n",
    "\n",
    "state = vector_to_state(V[:,1],QN_X)\n",
    "state.print_state()"
   ]
  },
  {
   "cell_type": "code",
   "execution_count": null,
   "metadata": {},
   "outputs": [],
   "source": [
    "QN_X_diag[-1].print_state()"
   ]
  },
  {
   "cell_type": "markdown",
   "metadata": {},
   "source": [
    "Find the part of the Hamiltonian that is used for the simulations"
   ]
  },
  {
   "cell_type": "code",
   "execution_count": null,
   "metadata": {},
   "outputs": [],
   "source": [
    "#Define what states are to be included in the simulation\n",
    "Js = [0,2]\n",
    "ground_states = [1*CoupledBasisState(F,mF,F1,J,I_F,I_Tl, electronic_state='X', P = (-1)**J, Omega = 0)\n",
    "                  for J  in Js\n",
    "                  for F1 in ni_range(np.abs(J-I_F),J+I_F+1)\n",
    "                  for F in ni_range(np.abs(F1-I_Tl),F1+I_Tl+1)\n",
    "                  for mF in ni_range(-F, F+1)\n",
    "                 ]\n",
    "\n",
    "ground_states_diag = []\n",
    "for ground_state in ground_states:\n",
    "    i = find_state_idx_from_state(H_X_diag,ground_state, QN_X_diag)\n",
    "    ground_states_diag.append(QN_X_diag[i])"
   ]
  },
  {
   "cell_type": "code",
   "execution_count": null,
   "metadata": {},
   "outputs": [],
   "source": [
    "H_X_red = reduced_basis_hamiltonian(QN_X_diag, H_X_diag, ground_states_diag)"
   ]
  },
  {
   "cell_type": "code",
   "execution_count": null,
   "metadata": {},
   "outputs": [],
   "source": [
    "H_X_red.shape"
   ]
  },
  {
   "cell_type": "code",
   "execution_count": null,
   "metadata": {},
   "outputs": [],
   "source": [
    "ground_states_diag[-1].print_state()"
   ]
  },
  {
   "cell_type": "markdown",
   "metadata": {},
   "source": [
    "## B-state Hamiltonian"
   ]
  },
  {
   "cell_type": "code",
   "execution_count": null,
   "metadata": {},
   "outputs": [],
   "source": [
    "H_B = make_hamiltonian_B(\"./utilities/B_hamiltonians_symbolic_coupled_P_1to3.pickle\")"
   ]
  },
  {
   "cell_type": "code",
   "execution_count": null,
   "metadata": {},
   "outputs": [],
   "source": [
    "Jmin = 1\n",
    "Jmax = 3\n",
    "I_F = 1/2\n",
    "I_Tl = 1/2\n",
    "Ps = [-1, 1]\n",
    "QN_B = [CoupledBasisState(F,mF,F1,J,I_F,I_Tl,P = P, Omega = 1, electronic_state='B')\n",
    "      for J  in ni_range(Jmin, Jmax+1)\n",
    "      for F1 in ni_range(np.abs(J-I_F),J+I_F+1)\n",
    "      for F in ni_range(np.abs(F1-I_Tl),F1+I_Tl+1)\n",
    "      for mF in ni_range(-F, F+1)\n",
    "      for P in Ps\n",
    "     ]"
   ]
  },
  {
   "cell_type": "code",
   "execution_count": null,
   "metadata": {},
   "outputs": [],
   "source": [
    "D,V = np.linalg.eigh(H_B)\n",
    "\n",
    "#Diagonalize the Hamiltonian\n",
    "H_B_diag = V.conj().T @ H_B @ V\n",
    "\n",
    "#New set of quantum numbers:\n",
    "QN_B_diag = matrix_to_states(V, QN_B)\n",
    "\n",
    "state = vector_to_state(V[:,1],QN_B)\n",
    "state.print_state()"
   ]
  },
  {
   "cell_type": "code",
   "execution_count": null,
   "metadata": {},
   "outputs": [],
   "source": [
    "#Define what states are to be included in the simulation\n",
    "J = 1\n",
    "F1 = 3/2\n",
    "F = 2\n",
    "excited_states = [1*CoupledBasisState(F,mF,F1,J,I_F,I_Tl, electronic_state='B', P = -1, Omega = 1)\n",
    "                  for mF in ni_range(-F, F+1)\n",
    "                 ]\n",
    "\n",
    "excited_states_diag = []\n",
    "for excited_state in excited_states:\n",
    "    i = find_state_idx_from_state(H_B_diag,excited_state, QN_B_diag)\n",
    "    excited_states_diag.append(QN_B_diag[i])"
   ]
  },
  {
   "cell_type": "code",
   "execution_count": null,
   "metadata": {},
   "outputs": [],
   "source": [
    "H_B_red = reduced_basis_hamiltonian(QN_B_diag, H_B_diag, excited_states_diag)"
   ]
  },
  {
   "cell_type": "code",
   "execution_count": null,
   "metadata": {},
   "outputs": [],
   "source": [
    "H_B_red.shape"
   ]
  },
  {
   "cell_type": "markdown",
   "metadata": {},
   "source": [
    "## Optical couplings\n",
    "Generating the matrix of optical couplings here. Assuming rotating frame so no $\\exp(i\\omega t)$ time-dependence"
   ]
  },
  {
   "cell_type": "code",
   "execution_count": null,
   "metadata": {},
   "outputs": [],
   "source": [
    "QN = ground_states_diag + excited_states_diag\n",
    "Js = [0]\n",
    "ground_states_laser_approx =  [1*CoupledBasisState(F,mF,F1,J,I_F,I_Tl, electronic_state='X', P = (-1)**J, Omega = 0)\n",
    "                                  for J  in Js\n",
    "                                  for F1 in ni_range(np.abs(J-I_F),J+I_F+1)\n",
    "                                  for F in ni_range(np.abs(F1-I_Tl),F1+I_Tl+1)\n",
    "                                  for mF in ni_range(-F, F+1)\n",
    "                                 ]\n",
    "\n",
    "ground_states_laser = []\n",
    "for ground_state in ground_states_laser_approx:\n",
    "    i = find_state_idx_from_state(H_X_diag,ground_state, QN_X_diag)\n",
    "    ground_states_laser.append(QN_X_diag[i])\n",
    "\n",
    "excited_states_laser = excited_states_diag"
   ]
  },
  {
   "cell_type": "code",
   "execution_count": null,
   "metadata": {},
   "outputs": [],
   "source": [
    "H_laser = optical_coupling_matrix(QN, ground_states_laser, excited_states_laser, pol_vec = np.array([0,0,1]), reduced = False)\n",
    "H_laser[H_laser < 1e-5] = 0\n",
    "\n",
    "#Check that coupling matrix is hermitian\n",
    "print(np.allclose(H_laser, H_laser.conj().T))"
   ]
  },
  {
   "cell_type": "code",
   "execution_count": null,
   "metadata": {},
   "outputs": [],
   "source": [
    "#Calculate the matrix element for the \"main\" transition so that coupling matrix can be scaled to have appropriate rabi rate\n",
    "#Define approximate form of main ground state\n",
    "ground_main_approx = 1*CoupledBasisState(J=0,F1=1/2,F=1,mF=0,I1=1/2,I2=1/2,electronic_state='X', P = 1, Omega = 0)\n",
    "ground_main_i = find_state_idx_from_state(H_X_diag,ground_main_approx, QN_X_diag)\n",
    "ground_main = QN_X_diag[ground_main_i]\n",
    "\n",
    "#Define approximate form of main excited state\n",
    "excited_main_approx = 1*CoupledBasisState(J = 1,F1=3/2,F=2,mF=0,I1=1/2,I2=1/2, electronic_state='B', P = -1, Omega = 1)\n",
    "excited_main_i = find_state_idx_from_state(H_B_diag,excited_main_approx, QN_B_diag)\n",
    "excited_main = QN_B_diag[excited_main_i]\n",
    "\n",
    "ME_main = ED_ME_mixed_state(excited_main, ground_main, pol_vec = np.array([0,0,1]))\n",
    "\n",
    "print(ME_main)"
   ]
  },
  {
   "cell_type": "code",
   "execution_count": null,
   "metadata": {},
   "outputs": [],
   "source": [
    "#Generate optical coupling matrix with set rabi rate\n",
    "Omega = 2*np.pi*1e6 #[2pi*Hz]\n",
    "\n",
    "H_oc = Omega*H_laser/ME_main"
   ]
  },
  {
   "cell_type": "markdown",
   "metadata": {},
   "source": [
    "## Total Hamiltonian"
   ]
  },
  {
   "cell_type": "code",
   "execution_count": null,
   "metadata": {},
   "outputs": [],
   "source": [
    "#Shift the energies of the states to account for transferring to rotating frame\n",
    "H_X_shifted = np.diag(np.diag(H_X_red) - H_X_diag[ground_main_i,ground_main_i])\n",
    "\n",
    "detuning = 0\n",
    "H_B_shifted = np.diag(np.diag(H_B_red - H_B_diag[excited_main_i,excited_main_i] + detuning))"
   ]
  },
  {
   "cell_type": "code",
   "execution_count": null,
   "metadata": {},
   "outputs": [],
   "source": [
    "H_tot = scipy.linalg.block_diag(H_X_shifted, H_B_shifted) + H_oc"
   ]
  },
  {
   "cell_type": "code",
   "execution_count": null,
   "metadata": {},
   "outputs": [],
   "source": [
    "np.diag(H_tot)"
   ]
  },
  {
   "cell_type": "markdown",
   "metadata": {},
   "source": [
    "## Collapse operators\n",
    "Generating the matrix representing spontaneous decay from the excited state"
   ]
  },
  {
   "cell_type": "code",
   "execution_count": null,
   "metadata": {},
   "outputs": [],
   "source": [
    "# BRs = calculate_BR(excited_main, ground_states)"
   ]
  },
  {
   "cell_type": "code",
   "execution_count": null,
   "metadata": {},
   "outputs": [],
   "source": [
    "# for ground_state, BR in zip(ground_states, BRs):\n",
    "#     print(\"Branching ratio to\")\n",
    "#     ground_state.print_state()\n",
    "#     print(\"is {:5f}\\n\".format(BR))"
   ]
  },
  {
   "cell_type": "code",
   "execution_count": null,
   "metadata": {},
   "outputs": [],
   "source": [
    "C1 = collapse_matrix(QN, ground_states_diag, excited_states_diag)\n"
   ]
  },
  {
   "cell_type": "code",
   "execution_count": null,
   "metadata": {},
   "outputs": [],
   "source": [
    "C1[np.abs(C1) < 1e-4] = 0"
   ]
  },
  {
   "cell_type": "code",
   "execution_count": null,
   "metadata": {},
   "outputs": [],
   "source": [
    "#Multiply C by the natural linewidth to get its final form\n",
    "Gamma = 2*np.pi*1.6e6 #Natural linewidth in 2pi*Hz\n",
    "C = np.sqrt(Gamma)*C1"
   ]
  },
  {
   "cell_type": "markdown",
   "metadata": {},
   "source": [
    "## Density matrix"
   ]
  },
  {
   "cell_type": "code",
   "execution_count": null,
   "metadata": {},
   "outputs": [],
   "source": [
    "#Define states that are populated initially\n",
    "Js = [0]\n",
    "Fs = [1]\n",
    "states_pop_approx = [1*CoupledBasisState(F,mF,F1,J,I_F,I_Tl, electronic_state='X', P = (-1)**J, Omega = 0)\n",
    "              for J  in Js\n",
    "              for F1 in ni_range(np.abs(J-I_F),J+I_F+1)\n",
    "              for F in Fs\n",
    "              for mF in ni_range(-F, F+1)\n",
    "             ]\n",
    "\n",
    "states_pop = []\n",
    "for state in states_pop_approx:\n",
    "    i = find_state_idx_from_state(H_X_diag,state, QN_X_diag)\n",
    "    states_pop.append(QN_X_diag[i])\n",
    "\n",
    "pops = np.ones(len(states_pop))/len(states_pop)\n",
    "\n",
    "rho_ini = generate_density_matrix(QN,states_pop,pops)"
   ]
  },
  {
   "cell_type": "markdown",
   "metadata": {},
   "source": [
    "## Transferring to superoperator basis"
   ]
  },
  {
   "cell_type": "code",
   "execution_count": null,
   "metadata": {},
   "outputs": [],
   "source": [
    "#Calculate Liouvillian\n",
    "L = (-1j*generate_commutator_superoperator(H_tot) + generate_superoperator(C,C.conj().T)\n",
    "     -1/2 * (generate_flat_superoperator(C.conj().T @ C) + generate_sharp_superoperator(C.conj().T @ C)))\n",
    "\n",
    "#Generate rho vector\n",
    "rho_vec = generate_rho_vector(rho_ini)"
   ]
  },
  {
   "cell_type": "markdown",
   "metadata": {},
   "source": [
    "## Time-evolving"
   ]
  },
  {
   "cell_type": "code",
   "execution_count": null,
   "metadata": {},
   "outputs": [],
   "source": [
    "from scipy.sparse.linalg import expm as expm_sparse\n",
    "\n",
    "T = 2*np.pi*10/Omega #Total integration time\n",
    "Nsteps = int(5e2) #Number of timesteps\n",
    "dt = T/Nsteps\n",
    "\n",
    "#Generate array of times\n",
    "t_array = np.linspace(0,T,Nsteps)\n",
    "\n",
    "#Array for storing results\n",
    "pop_results = np.zeros((len(QN), len(t_array)), dtype = float)\n",
    "\n",
    "pop_results[:,0] = np.diag(rho_ini)\n",
    "\n",
    "#Loop over timesteps\n",
    "for i, t_i in enumerate(tqdm(t_array[1:])):\n",
    "#     rho_vec = expm(L * dt) @ rho_vec\n",
    "    L_sparse = csc_matrix(L*dt)\n",
    "    rho_vec = expm_sparse(L_sparse) @ rho_vec \n",
    "    \n",
    "    rho = rho_vec.reshape(len(QN),len(QN))\n",
    "    pop_results[:,i+1] = np.real(np.diag(rho))\n",
    "    \n",
    "    "
   ]
  },
  {
   "cell_type": "code",
   "execution_count": null,
   "metadata": {},
   "outputs": [],
   "source": [
    "fig, ax = plt.subplots()\n",
    "ax.plot(t_array*1e6, pop_results.T)"
   ]
  },
  {
   "cell_type": "code",
   "execution_count": null,
   "metadata": {},
   "outputs": [],
   "source": [
    "#Plot populations in different J\n",
    "P0 = np.sum(pop_results[0:4,:], axis = 0)\n",
    "P2 = np.sum(pop_results[4:24,:], axis = 0)\n",
    "PB1 = np.sum(pop_results[24:,:], axis = 0)\n",
    "\n",
    "fig, ax = plt.subplots()\n",
    "ax.plot(t_array*1e6, P0, label = 'X, J = 0')\n",
    "ax.plot(t_array*1e6, P2, label = 'X, J = 2')\n",
    "ax.plot(t_array*1e6, PB1, label = 'B, J = 0')\n",
    "ax.legend()\n",
    "ax.set_xlabel(\"Time / us\")\n",
    "ax.set_ylabel(\"Population in state\")"
   ]
  },
  {
   "cell_type": "markdown",
   "metadata": {},
   "source": [
    "## Speed tests"
   ]
  },
  {
   "cell_type": "code",
   "execution_count": null,
   "metadata": {},
   "outputs": [],
   "source": [
    "import timeit\n",
    "from scipy.linalg import expm\n",
    "timeit.timeit('M = expm(L*dt) @ rho_vec', number = 10, globals = globals())"
   ]
  },
  {
   "cell_type": "code",
   "execution_count": null,
   "metadata": {},
   "outputs": [],
   "source": [
    "from scipy.sparse import csc_matrix, csr_matrix \n",
    "from scipy.sparse.linalg import expm_multiply, expm\n",
    "\n",
    "\n",
    "L_sparse = csc_matrix(L*dt)"
   ]
  },
  {
   "cell_type": "code",
   "execution_count": null,
   "metadata": {
    "scrolled": true
   },
   "outputs": [],
   "source": [
    "timeit.timeit('L_sparse = csc_matrix(L*dt); M = expm_multiply(L_sparse,rho_vec)', number = 10, globals = globals())"
   ]
  },
  {
   "cell_type": "code",
   "execution_count": null,
   "metadata": {},
   "outputs": [],
   "source": [
    "timeit.timeit('L_sparse = csc_matrix(L*dt); M = expm(L_sparse) @ rho_vec', number = 10, globals = globals())"
   ]
  },
  {
   "cell_type": "code",
   "execution_count": null,
   "metadata": {},
   "outputs": [],
   "source": [
    "L_sparse"
   ]
  },
  {
   "cell_type": "code",
   "execution_count": null,
   "metadata": {},
   "outputs": [],
   "source": [
    "dt"
   ]
  }
 ],
 "metadata": {
  "kernelspec": {
   "display_name": "Python 3",
   "language": "python",
   "name": "python3"
  },
  "language_info": {
   "codemirror_mode": {
    "name": "ipython",
    "version": 3
   },
   "file_extension": ".py",
   "mimetype": "text/x-python",
   "name": "python",
   "nbconvert_exporter": "python",
   "pygments_lexer": "ipython3",
   "version": "3.7.6"
  }
 },
 "nbformat": 4,
 "nbformat_minor": 4
}
