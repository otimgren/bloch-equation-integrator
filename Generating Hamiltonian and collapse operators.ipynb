{
 "cells": [
  {
   "cell_type": "code",
   "execution_count": null,
   "metadata": {},
   "outputs": [],
   "source": [
    "#Import packages\n",
    "%load_ext autoreload\n",
    "%autoreload 2\n",
    "import sys\n",
    "import numpy as np\n",
    "sys.path.append('./molecular-state-classes-and-functions/')\n",
    "from classes import UncoupledBasisState, CoupledBasisState, State\n",
    "from functions import make_hamiltonian, make_hamiltonian_B, make_QN, ni_range, vector_to_state, matrix_to_states\n",
    "from functions import find_state_idx_from_state\n",
    "import pickle\n",
    "from OBE_functions import *\n",
    "import scipy\n",
    "\n",
    "### Matrix element functions for OBE integrator ### \n",
    "from sympy.physics.wigner import wigner_3j, wigner_6j\n",
    "\n",
    "def threej_f(j1,j2,j3,m1,m2,m3):\n",
    "    return complex(wigner_3j(j1,j2,j3,m1,m2,m3))\n",
    "\n",
    "def sixj_f(j1,j2,j3,j4,j5,j6):\n",
    "    return complex(wigner_6j(j1,j2,j3,j4,j5,j6))\n",
    "\n",
    "import matplotlib.pyplot as plt\n",
    "%matplotlib notebook"
   ]
  },
  {
   "cell_type": "markdown",
   "metadata": {},
   "source": [
    "## X-state Hamiltonian\n",
    "Load the X-state hamiltonian from file and transform it to the coupled basis"
   ]
  },
  {
   "cell_type": "code",
   "execution_count": null,
   "metadata": {},
   "outputs": [],
   "source": [
    "H_X_uc = make_hamiltonian(\"./utilities/TlF_X_state_hamiltonian_J0to4.pickle\")"
   ]
  },
  {
   "cell_type": "code",
   "execution_count": null,
   "metadata": {},
   "outputs": [],
   "source": [
    "#Generate lists of quantum numbers\n",
    "QN_X_uncoupled = make_QN(0,3,1/2,1/2)\n",
    "\n",
    "Jmin = 0\n",
    "Jmax = 4\n",
    "I_F = 1/2\n",
    "I_Tl = 1/2\n",
    "QN_X = [CoupledBasisState(F,mF,F1,J,I_F,I_Tl, electronic_state='X', P = (-1)**J, Omega = 0)\n",
    "      for J  in ni_range(Jmin, Jmax+1)\n",
    "      for F1 in ni_range(np.abs(J-I_F),J+I_F+1)\n",
    "      for F in ni_range(np.abs(F1-I_Tl),F1+I_Tl+1)\n",
    "      for mF in ni_range(-F, F+1)\n",
    "     ]"
   ]
  },
  {
   "cell_type": "code",
   "execution_count": null,
   "metadata": {},
   "outputs": [],
   "source": [
    "### Transform Hamiltonian to coupled basis ###\n",
    "#Load transform matrix\n",
    "with open(\"./utilities/UC_to_C_j0to4.pickle\",\"rb\") as f:\n",
    "    S_trans = pickle.load(f)"
   ]
  },
  {
   "cell_type": "code",
   "execution_count": null,
   "metadata": {},
   "outputs": [],
   "source": [
    "#Transform matrix\n",
    "E = np.array((0,0,0))\n",
    "B = np.array((0,0,0.001))\n",
    "H_X =  S_trans.conj().T @ H_X_uc(E, B) @ S_trans"
   ]
  },
  {
   "cell_type": "code",
   "execution_count": null,
   "metadata": {},
   "outputs": [],
   "source": [
    "D, V = np.linalg.eigh(H_X)\n",
    "\n",
    "#Diagonalize the Hamiltonian\n",
    "H_X_diag = V.conj().T @ H_X @ V\n",
    "\n",
    "#New set of quantum numbers:\n",
    "QN_X_diag = matrix_to_states(V, QN_X)\n",
    "\n",
    "state = vector_to_state(V[:,1],QN_X)\n",
    "state.print_state()"
   ]
  },
  {
   "cell_type": "code",
   "execution_count": null,
   "metadata": {},
   "outputs": [],
   "source": [
    "QN_X_diag[-1].print_state()"
   ]
  },
  {
   "cell_type": "markdown",
   "metadata": {},
   "source": [
    "Find the part of the Hamiltonian that is used for the simulations"
   ]
  },
  {
   "cell_type": "code",
   "execution_count": null,
   "metadata": {},
   "outputs": [],
   "source": [
    "#Define what states are to be included in the simulation\n",
    "Js = [0,2]\n",
    "ground_states = [1*CoupledBasisState(F,mF,F1,J,I_F,I_Tl, electronic_state='X', P = (-1)**J, Omega = 0)\n",
    "                  for J  in Js\n",
    "                  for F1 in ni_range(np.abs(J-I_F),J+I_F+1)\n",
    "                  for F in ni_range(np.abs(F1-I_Tl),F1+I_Tl+1)\n",
    "                  for mF in ni_range(-F, F+1)\n",
    "                 ]\n",
    "\n",
    "ground_states_diag = []\n",
    "for ground_state in ground_states:\n",
    "    i = find_state_idx_from_state(H_X_diag,ground_state, QN_X_diag)\n",
    "    ground_states_diag.append(QN_X_diag[i])"
   ]
  },
  {
   "cell_type": "code",
   "execution_count": null,
   "metadata": {},
   "outputs": [],
   "source": [
    "H_X_red = reduced_basis_hamiltonian(QN_X_diag, H_X_diag, ground_states_diag)"
   ]
  },
  {
   "cell_type": "code",
   "execution_count": null,
   "metadata": {},
   "outputs": [],
   "source": [
    "H_X_red.shape"
   ]
  },
  {
   "cell_type": "code",
   "execution_count": null,
   "metadata": {},
   "outputs": [],
   "source": [
    "ground_states_diag[-1].print_state()"
   ]
  },
  {
   "cell_type": "markdown",
   "metadata": {},
   "source": [
    "## B-state Hamiltonian"
   ]
  },
  {
   "cell_type": "code",
   "execution_count": null,
   "metadata": {},
   "outputs": [],
   "source": [
    "H_B = make_hamiltonian_B(\"./utilities/B_hamiltonians_symbolic_coupled_P_1to3.pickle\")"
   ]
  },
  {
   "cell_type": "code",
   "execution_count": null,
   "metadata": {},
   "outputs": [],
   "source": [
    "Jmin = 1\n",
    "Jmax = 3\n",
    "I_F = 1/2\n",
    "I_Tl = 1/2\n",
    "Ps = [-1, 1]\n",
    "QN_B = [CoupledBasisState(F,mF,F1,J,I_F,I_Tl,P = P, Omega = 1, electronic_state='B')\n",
    "      for J  in ni_range(Jmin, Jmax+1)\n",
    "      for F1 in ni_range(np.abs(J-I_F),J+I_F+1)\n",
    "      for F in ni_range(np.abs(F1-I_Tl),F1+I_Tl+1)\n",
    "      for mF in ni_range(-F, F+1)\n",
    "      for P in Ps\n",
    "     ]"
   ]
  },
  {
   "cell_type": "code",
   "execution_count": null,
   "metadata": {},
   "outputs": [],
   "source": [
    "D,V = np.linalg.eigh(H_B)\n",
    "\n",
    "#Diagonalize the Hamiltonian\n",
    "H_B_diag = V.conj().T @ H_B @ V\n",
    "\n",
    "#New set of quantum numbers:\n",
    "QN_B_diag = matrix_to_states(V, QN_B)\n",
    "\n",
    "state = vector_to_state(V[:,1],QN_B)\n",
    "state.print_state()"
   ]
  },
  {
   "cell_type": "code",
   "execution_count": null,
   "metadata": {},
   "outputs": [],
   "source": [
    "#Define what states are to be included in the simulation\n",
    "J = 1\n",
    "F1 = 3/2\n",
    "F = 2\n",
    "excited_states = [1*CoupledBasisState(F,mF,F1,J,I_F,I_Tl, electronic_state='B', P = -1, Omega = 1)\n",
    "                  for mF in ni_range(-F, F+1)\n",
    "                 ]\n",
    "\n",
    "excited_states_diag = []\n",
    "for excited_state in excited_states:\n",
    "    i = find_state_idx_from_state(H_B_diag,excited_state, QN_B_diag)\n",
    "    excited_states_diag.append(QN_B_diag[i])"
   ]
  },
  {
   "cell_type": "code",
   "execution_count": null,
   "metadata": {},
   "outputs": [],
   "source": [
    "H_B_red = reduced_basis_hamiltonian(QN_B_diag, H_B_diag, excited_states_diag)"
   ]
  },
  {
   "cell_type": "code",
   "execution_count": null,
   "metadata": {},
   "outputs": [],
   "source": [
    "H_B_red.shape"
   ]
  },
  {
   "cell_type": "markdown",
   "metadata": {},
   "source": [
    "## Molecular trajectory\n",
    "For convenience, defining a function that gives the position of the molecule as a function of time. This makes it easier to convert spatial dependence of laser intensity etc. into time-dependent functions"
   ]
  },
  {
   "cell_type": "code",
   "execution_count": null,
   "metadata": {},
   "outputs": [],
   "source": [
    "def molecule_position(t, r0, v):\n",
    "    \"\"\"\n",
    "    Functions that returns position of molecule at a given time for given initial position and velocity.\n",
    "    inputs:\n",
    "    t = time in seconds\n",
    "    r0 = position of molecule at t = 0 in meters\n",
    "    v = velocity of molecule in meters per second\n",
    "    \n",
    "    returns:\n",
    "    r = position of molecule in metres\n",
    "    \"\"\"\n",
    "    r =  r0 + v*t\n",
    "    \n",
    "    return r"
   ]
  },
  {
   "cell_type": "code",
   "execution_count": null,
   "metadata": {},
   "outputs": [],
   "source": [
    "#Define the position of the molecule as a function of time\n",
    "r0 = np.array((0,0,-5e-3))\n",
    "v = np.array((0,0,200))\n",
    "r_t = lambda t: molecule_position(t, r0, v)\n",
    "\n",
    "#Define the total time for which the molecule is simulated\n",
    "z0 = r0[2]\n",
    "vz = v[2]\n",
    "T = np.abs(2*z0/vz)"
   ]
  },
  {
   "cell_type": "markdown",
   "metadata": {},
   "source": [
    "## Optical couplings\n",
    "Generating the matrix of optical couplings here. Assuming rotating frame so no $\\exp(i\\omega t)$ time-dependence"
   ]
  },
  {
   "cell_type": "code",
   "execution_count": null,
   "metadata": {},
   "outputs": [],
   "source": [
    "QN = ground_states_diag + excited_states_diag\n",
    "Js = [0]\n",
    "ground_states_laser_approx =  [1*CoupledBasisState(F,mF,F1,J,I_F,I_Tl, electronic_state='X', P = (-1)**J, Omega = 0)\n",
    "                                  for J  in Js\n",
    "                                  for F1 in ni_range(np.abs(J-I_F),J+I_F+1)\n",
    "                                  for F in ni_range(np.abs(F1-I_Tl),F1+I_Tl+1)\n",
    "                                  for mF in ni_range(-F, F+1)\n",
    "                                 ]\n",
    "\n",
    "ground_states_laser = []\n",
    "for ground_state in ground_states_laser_approx:\n",
    "    i = find_state_idx_from_state(H_X_diag,ground_state, QN_X_diag)\n",
    "    ground_states_laser.append(QN_X_diag[i])\n",
    "\n",
    "excited_states_laser = excited_states_diag"
   ]
  },
  {
   "cell_type": "code",
   "execution_count": null,
   "metadata": {},
   "outputs": [],
   "source": [
    "H_laser = optical_coupling_matrix(QN, ground_states_laser, excited_states_laser, pol_vec = np.array([0,0,1]), reduced = False)\n",
    "H_laser[np.abs(H_laser) < 1e-3*np.max(np.abs(H_laser))] = 0\n",
    "\n",
    "#Check that coupling matrix is hermitian\n",
    "print(np.allclose(H_laser, H_laser.conj().T))"
   ]
  },
  {
   "cell_type": "code",
   "execution_count": null,
   "metadata": {},
   "outputs": [],
   "source": [
    "#Calculate the matrix element for the \"main\" transition so that coupling matrix can be scaled to have appropriate rabi rate\n",
    "#Define approximate form of main ground state\n",
    "ground_main_approx = 1*CoupledBasisState(J=0,F1=1/2,F=1,mF=0,I1=1/2,I2=1/2,electronic_state='X', P = 1, Omega = 0)\n",
    "ground_main_i = find_state_idx_from_state(H_X_diag,ground_main_approx, QN_X_diag)\n",
    "ground_main = QN_X_diag[ground_main_i]\n",
    "\n",
    "#Define approximate form of main excited state\n",
    "excited_main_approx = 1*CoupledBasisState(J = 1,F1=3/2,F=2,mF=0,I1=1/2,I2=1/2, electronic_state='B', P = -1, Omega = 1)\n",
    "excited_main_i = find_state_idx_from_state(H_B_diag,excited_main_approx, QN_B_diag)\n",
    "excited_main = QN_B_diag[excited_main_i]\n",
    "\n",
    "ME_main = ED_ME_mixed_state(excited_main, ground_main, pol_vec = np.array([0,0,1]))\n",
    "\n",
    "print(ME_main)"
   ]
  },
  {
   "cell_type": "code",
   "execution_count": null,
   "metadata": {},
   "outputs": [],
   "source": [
    "ground_main.print_state()"
   ]
  },
  {
   "cell_type": "code",
   "execution_count": null,
   "metadata": {},
   "outputs": [],
   "source": [
    "#Calculate effective dipole moment for the optical transitions\n",
    "Gamma = 1/100e-9 #Natural linewidth in 2*pi*Hz\n",
    "f = 3e8/271.7e-9 #Frequency in Hz\n",
    "D_eff = (np.sqrt(3*np.pi*8.85e-12*1.05e-34*3e8**3*Gamma/(2*np.pi*f)**3)\n",
    "         /(1/3e8 * 1e-21)* 0.393430307 * 5.291772e-9/4.135667e-15)  #Hz/(V/cm)\n",
    "\n",
    "#Generate optical coupling matrix with set rabi rate\n",
    "Omega = 2*np.pi*1000e3*0 #[2pi*Hz]\n",
    "\n",
    "#Calculate the electric field required to give the desired Rabi rate\n",
    "laser_power = calculate_power_needed(Omega, ME_main, D_TlF = D_eff, fwhm = 1e-3)\n",
    "E_laser = lambda t: microwave_field(r_t(t), power=laser_power, fwhm = 1e-3)\n",
    "\n",
    "\n",
    "\n",
    "H_oc_t = lambda t: D_eff*E_laser(t)*H_laser\n",
    "# H_oc_t = lambda t: Omega*H_laser/ME_main"
   ]
  },
  {
   "cell_type": "code",
   "execution_count": null,
   "metadata": {},
   "outputs": [],
   "source": [
    "D_eff*E_laser(T/2)*ME_main/(2*np.pi*1e6)"
   ]
  },
  {
   "cell_type": "code",
   "execution_count": null,
   "metadata": {},
   "outputs": [],
   "source": [
    "2*np.pi * 4.2282 * 0.393430307 *5.291772e-9/4.135667e-15"
   ]
  },
  {
   "cell_type": "code",
   "execution_count": null,
   "metadata": {},
   "outputs": [],
   "source": [
    "r_t(T/2)"
   ]
  },
  {
   "cell_type": "code",
   "execution_count": null,
   "metadata": {},
   "outputs": [],
   "source": [
    "laser_power"
   ]
  },
  {
   "cell_type": "markdown",
   "metadata": {},
   "source": [
    "## Total Hamiltonian"
   ]
  },
  {
   "cell_type": "code",
   "execution_count": null,
   "metadata": {},
   "outputs": [],
   "source": [
    "#Shift the energies of the states to account for transferring to rotating frame\n",
    "H_X_shifted = np.diag(np.diag(H_X_red) - H_X_diag[ground_main_i,ground_main_i])\n",
    "\n",
    "detuning = 0\n",
    "H_B_shifted = np.diag(np.diag(H_B_red - H_B_diag[excited_main_i,excited_main_i] + detuning))"
   ]
  },
  {
   "cell_type": "code",
   "execution_count": null,
   "metadata": {},
   "outputs": [],
   "source": [
    "H_tot_t = lambda t: scipy.linalg.block_diag(H_X_shifted, H_B_shifted) + H_oc_t(t)"
   ]
  },
  {
   "cell_type": "code",
   "execution_count": null,
   "metadata": {},
   "outputs": [],
   "source": [
    "np.diag(H_tot_t(T/2))"
   ]
  },
  {
   "cell_type": "markdown",
   "metadata": {},
   "source": [
    "## Collapse operators\n",
    "Generating the matrix representing spontaneous decay from the excited state"
   ]
  },
  {
   "cell_type": "code",
   "execution_count": null,
   "metadata": {},
   "outputs": [],
   "source": [
    "excited_test_approx = 1*CoupledBasisState(J = 1, F1=3/2, F=2, mF=1, I1=1/2, I2=1/2, electronic_state='B', P = -1, Omega = 1)\n",
    "excited_test_i = find_state_idx_from_state(H_B_diag,excited_test_approx, QN_B_diag)\n",
    "excited_test = QN_B_diag[excited_test_i]\n",
    "\n",
    "ground_test_approx = 1*CoupledBasisState(J=0,F1=1/2,F=1,mF=-1,I1=1/2,I2=1/2,electronic_state='X', P = 1, Omega = 0)\n",
    "ground_test_i = find_state_idx_from_state(H_X_diag,ground_test_approx, QN_X_diag)\n",
    "ground_test = QN_X_diag[ground_test_i]\n",
    "\n",
    "BRs = calculate_BR(excited_test, ground_states)\n",
    "excited_test.print_state()"
   ]
  },
  {
   "cell_type": "code",
   "execution_count": null,
   "metadata": {},
   "outputs": [],
   "source": [
    "# for ground_state, BR in zip(ground_states, BRs):\n",
    "#     if BR > 0.001:\n",
    "#         print(\"Branching ratio to\")\n",
    "#         ground_state.print_state()\n",
    "#         print(\"is {:5f}\\n\".format(BR))"
   ]
  },
  {
   "cell_type": "code",
   "execution_count": null,
   "metadata": {},
   "outputs": [],
   "source": [
    "Gamma = 1*2*np.pi*1.6e6 #Natural linewidth in 2pi*Hz\n",
    "\n",
    "C_list = collapse_matrices(QN, ground_states_diag, excited_states_diag, gamma = Gamma)"
   ]
  },
  {
   "cell_type": "code",
   "execution_count": null,
   "metadata": {},
   "outputs": [],
   "source": [
    "len(C_list)"
   ]
  },
  {
   "cell_type": "markdown",
   "metadata": {},
   "source": [
    "## Density matrix"
   ]
  },
  {
   "cell_type": "code",
   "execution_count": null,
   "metadata": {},
   "outputs": [],
   "source": [
    "# Define states that are populated initially\n",
    "# Js = [0]\n",
    "# Fs = [1]\n",
    "# states_pop_approx = [1*CoupledBasisState(F,mF,F1,J,I_F,I_Tl, electronic_state='X', P = (-1)**J, Omega = 0)\n",
    "#               for J  in Js\n",
    "#               for F1 in ni_range(np.abs(J-I_F),J+I_F+1)\n",
    "#               for F in Fs\n",
    "#               for mF in ni_range(-F, F+1)\n",
    "#              ]\n",
    "\n",
    "# states_pop = []\n",
    "# for state in states_pop_approx:\n",
    "#     i = find_state_idx_from_state(H_X_diag,state, QN_X_diag)\n",
    "#     states_pop.append(QN_X_diag[i])\n",
    "\n",
    "Js = [1]\n",
    "Fs = [2]\n",
    "F1s = [3/2]\n",
    "mFs = [-2]\n",
    "states_pop_approx = [1*CoupledBasisState(F,mF,F1,J,I_F,I_Tl, electronic_state='B', P = -1, Omega = 1)\n",
    "              for J  in Js\n",
    "              for F1 in F1s\n",
    "              for F in Fs\n",
    "              for mF in mFs\n",
    "             ]\n",
    "\n",
    "states_pop = []\n",
    "for state in states_pop_approx:\n",
    "    i = find_state_idx_from_state(H_B_diag,state, QN_B_diag)\n",
    "    states_pop.append(QN_B_diag[i])\n",
    "\n",
    "pops = np.ones(len(states_pop))/len(states_pop)\n",
    "\n",
    "rho_ini = generate_density_matrix(QN,states_pop,pops)"
   ]
  },
  {
   "cell_type": "markdown",
   "metadata": {},
   "source": [
    "## Transferring to superoperator basis"
   ]
  },
  {
   "cell_type": "code",
   "execution_count": null,
   "metadata": {},
   "outputs": [],
   "source": [
    "#Calculate Liouvillian\n",
    "#First compute the part that contains the spontaneous decay\n",
    "L_collapse = np.zeros((len(QN)**2,len(QN)**2), dtype = complex)\n",
    "for C in C_list:\n",
    "    L_collapse += (generate_superoperator(C,C.conj().T)\n",
    "                     -1/2 * (generate_flat_superoperator(C.conj().T @ C) + generate_sharp_superoperator(C.conj().T @ C)))\n",
    "\n",
    "L_t = lambda t: (-1j*generate_commutator_superoperator(H_tot_t(t)) + L_collapse)"
   ]
  },
  {
   "cell_type": "code",
   "execution_count": null,
   "metadata": {},
   "outputs": [],
   "source": [
    "len(L_collapse[L_collapse != 0])"
   ]
  },
  {
   "cell_type": "code",
   "execution_count": null,
   "metadata": {},
   "outputs": [],
   "source": [
    "L_test = csc_matrix(L_t(t_i)*dt)\n",
    "expm_sparse(L_test)"
   ]
  },
  {
   "cell_type": "markdown",
   "metadata": {},
   "source": [
    "## Time-evolving"
   ]
  },
  {
   "cell_type": "code",
   "execution_count": null,
   "metadata": {},
   "outputs": [],
   "source": [
    "from scipy.sparse.linalg import expm as expm_sparse\n",
    "from scipy.sparse import csc_matrix, csr_matrix, lil_matrix\n",
    "\n",
    "#Generate rho vector\n",
    "rho_vec = generate_rho_vector(rho_ini)\n",
    "\n",
    "T = 3e-6\n",
    "\n",
    "Nsteps = int(10e1) #Number of timesteps\n",
    "dt = T/Nsteps\n",
    "\n",
    "#Generate array of times\n",
    "t_array = np.linspace(0,T,Nsteps)\n",
    "\n",
    "#Array for storing results\n",
    "pop_results = np.zeros((len(QN), len(t_array)), dtype = float)\n",
    "\n",
    "pop_results[:,0] = np.diag(rho_ini)\n",
    "\n",
    "#Loop over timesteps\n",
    "for i, t_i in enumerate(tqdm(t_array[1:])):\n",
    "#     rho_vec = expm(L_t(t_i) * dt) @ rho_vec\n",
    "    L_sparse = csc_matrix(L_t(t_i)*dt)\n",
    "    #rho_vec = expm_sparse(L_sparse) @ rho_vec \n",
    "    \n",
    "    rho_vec = expm_multiply(L_sparse, rho_vec) \n",
    "    \n",
    "    rho = rho_vec.reshape(len(QN),len(QN))\n",
    "    pop_results[:,i+1] = np.real(np.diag(rho))\n",
    "    \n",
    "#     if not np.allclose(rho - np.diag(rho),np.zeros(rho.shape)):\n",
    "#         print(\"rho not diagonal {}\".format(i))\n",
    "#         print(rho[25,26])\n",
    "    \n",
    "    "
   ]
  },
  {
   "cell_type": "code",
   "execution_count": null,
   "metadata": {},
   "outputs": [],
   "source": [
    "fig, ax = plt.subplots()\n",
    "ax.plot(t_array*1e6, pop_results.T)"
   ]
  },
  {
   "cell_type": "code",
   "execution_count": null,
   "metadata": {},
   "outputs": [],
   "source": [
    "#Plot populations in different J\n",
    "P0 = np.sum(pop_results[0:4,:], axis = 0)\n",
    "P2 = np.sum(pop_results[4:24,:], axis = 0)\n",
    "PB1 = np.sum(pop_results[24:,:], axis = 0)\n",
    "\n",
    "fig, ax = plt.subplots()\n",
    "ax.plot(t_array*1e6, P0, label = 'X, J = 0')\n",
    "ax.plot(t_array*1e6, P2, label = 'X, J = 2')\n",
    "ax.plot(t_array*1e6, PB1, label = 'B, J = 1')\n",
    "ax.legend()\n",
    "ax.set_xlabel(\"Time / us\")\n",
    "ax.set_ylabel(\"Population in state\")"
   ]
  },
  {
   "cell_type": "markdown",
   "metadata": {},
   "source": [
    "## Scattered photons\n",
    "Calculating number of scattered photons"
   ]
  },
  {
   "cell_type": "code",
   "execution_count": null,
   "metadata": {},
   "outputs": [],
   "source": [
    "N_photons = np.sum(PB1*dt*Gamma/(2*np.pi))\n",
    "print(N_photons)"
   ]
  },
  {
   "cell_type": "markdown",
   "metadata": {},
   "source": [
    "## Speed tests"
   ]
  },
  {
   "cell_type": "code",
   "execution_count": null,
   "metadata": {},
   "outputs": [],
   "source": [
    "import timeit\n",
    "from scipy.linalg import expm\n",
    "L = L_t(T/2)\n",
    "timeit.timeit('M = expm(L*dt) @ rho_vec', number = 10, globals = globals())"
   ]
  },
  {
   "cell_type": "code",
   "execution_count": null,
   "metadata": {},
   "outputs": [],
   "source": [
    "from scipy.sparse import csc_matrix, csr_matrix \n",
    "from scipy.sparse.linalg import expm_multiply, expm\n",
    "\n",
    "\n",
    "L_sparse = csc_matrix(L_t(T/2)*dt)"
   ]
  },
  {
   "cell_type": "code",
   "execution_count": null,
   "metadata": {
    "scrolled": true
   },
   "outputs": [],
   "source": [
    "timeit.timeit('L_sparse = csc_matrix(L*dt); M = expm_multiply(L_sparse,rho_vec)', number = 10, globals = globals())"
   ]
  },
  {
   "cell_type": "code",
   "execution_count": null,
   "metadata": {},
   "outputs": [],
   "source": [
    "timeit.timeit('L_sparse = csc_matrix(L*dt*dt); M = expm(L_sparse) @ rho_vec', number = 10, globals = globals())"
   ]
  },
  {
   "cell_type": "code",
   "execution_count": null,
   "metadata": {},
   "outputs": [],
   "source": [
    "L_sparse"
   ]
  },
  {
   "cell_type": "code",
   "execution_count": null,
   "metadata": {},
   "outputs": [],
   "source": [
    "dt"
   ]
  }
 ],
 "metadata": {
  "kernelspec": {
   "display_name": "Python 3",
   "language": "python",
   "name": "python3"
  },
  "language_info": {
   "codemirror_mode": {
    "name": "ipython",
    "version": 3
   },
   "file_extension": ".py",
   "mimetype": "text/x-python",
   "name": "python",
   "nbconvert_exporter": "python",
   "pygments_lexer": "ipython3",
   "version": "3.7.6"
  }
 },
 "nbformat": 4,
 "nbformat_minor": 4
}
