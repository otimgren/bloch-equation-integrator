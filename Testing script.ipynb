{
 "cells": [
  {
   "cell_type": "markdown",
   "metadata": {},
   "source": [
    "Testing the script in \"OBE_integrator.py\" to make sure it gives the same results as the earlier notebooks"
   ]
  },
  {
   "cell_type": "code",
   "execution_count": null,
   "metadata": {},
   "outputs": [],
   "source": [
    "#Import packages\n",
    "%load_ext autoreload\n",
    "%autoreload 2\n",
    "import sys\n",
    "import numpy as np\n",
    "sys.path.append('./molecular-state-classes-and-functions/')\n",
    "from classes import UncoupledBasisState, CoupledBasisState, State\n",
    "from functions import ni_range\n",
    "from OBE_functions import calculate_power_needed, multipassed_laser_E_field\n",
    "\n",
    "import matplotlib.pyplot as plt\n",
    "%matplotlib notebook\n",
    "\n",
    "#Import classes for defining laser and microwave fields\n",
    "from OBE_classes import OpticalField, MicrowaveField\n",
    "\n",
    "#Import the OBE integrator script\n",
    "from OBE_integrator import OBE_integrator"
   ]
  },
  {
   "cell_type": "markdown",
   "metadata": {},
   "source": [
    "## X-state"
   ]
  },
  {
   "cell_type": "code",
   "execution_count": null,
   "metadata": {},
   "outputs": [],
   "source": [
    "#Define what states are to be included in the simulation\n",
    "Js_g = [0,1,2,3]\n",
    "I_F = 1/2\n",
    "I_Tl = 1/2\n",
    "ground_states_approx = [1*CoupledBasisState(F,mF,F1,J,I_F,I_Tl, electronic_state='X', P = (-1)**J, Omega = 0)\n",
    "                  for J  in Js_g\n",
    "                  for F1 in ni_range(np.abs(J-I_F),J+I_F+1)\n",
    "                  for F in ni_range(np.abs(F1-I_Tl),F1+I_Tl+1)\n",
    "                  for mF in ni_range(-F, F+1)\n",
    "                 ]"
   ]
  },
  {
   "cell_type": "markdown",
   "metadata": {},
   "source": [
    "## B-state"
   ]
  },
  {
   "cell_type": "code",
   "execution_count": null,
   "metadata": {},
   "outputs": [],
   "source": [
    "#Define what states are to be included in the simulation\n",
    "J = 1\n",
    "F1 = 3/2\n",
    "F = 1\n",
    "excited_states_approx = [1*CoupledBasisState(F,mF,F1,J,I_F,I_Tl, electronic_state='B', P = -1, Omega = 1)\n",
    "                  for mF in ni_range(-F, F+1)\n",
    "                 ]"
   ]
  },
  {
   "cell_type": "markdown",
   "metadata": {},
   "source": [
    "## Laser field"
   ]
  },
  {
   "cell_type": "code",
   "execution_count": null,
   "metadata": {},
   "outputs": [],
   "source": [
    "#Define ground states for laser driven transition\n",
    "Js = [2]\n",
    "ground_states_laser_approx =  [1*CoupledBasisState(F,mF,F1,J,I_F,I_Tl, electronic_state='X', P = (-1)**J, Omega = 0)\n",
    "                                  for J  in Js\n",
    "                                  for F1 in ni_range(np.abs(J-I_F),J+I_F+1)\n",
    "                                  for F in ni_range(np.abs(F1-I_Tl),F1+I_Tl+1)\n",
    "                                  for mF in ni_range(-F, F+1)\n",
    "                                 ]\n",
    "\n",
    "#Define excited states for laser\n",
    "excited_states_laser_approx = excited_states_approx"
   ]
  },
  {
   "cell_type": "code",
   "execution_count": null,
   "metadata": {},
   "outputs": [],
   "source": [
    "ground_main_approx = 1*CoupledBasisState(J=2,F1=5/2,F=2,mF=0,I1=1/2,I2=1/2,electronic_state='X', P = 1, Omega = 0)\n",
    "excited_main_approx = 1*CoupledBasisState(J = 1,F1=3/2,F=1,mF=0,I1=1/2,I2=1/2, electronic_state='B', P = -1, Omega = 1)"
   ]
  },
  {
   "cell_type": "code",
   "execution_count": null,
   "metadata": {},
   "outputs": [],
   "source": [
    "#Polarization as function of time\n",
    "omega_p = .25*Gamma\n",
    "beta = 0\n",
    "omega_sb = 2*np.pi*1.6e6\n",
    "p_t = lambda t: np.array([np.sin(omega_p*t), 0, np.cos(omega_p*t)]) * np.exp(1j*beta*np.sin(omega_sb*t))\n",
    "\n",
    "\n",
    "#Generate a spatial profile for the Rabi rate\n",
    "Omega = 2*np.pi*1e6\n",
    "fwhm_z = 1e-3\n",
    "fwhm_y = 5e-3\n",
    "E_peak = Omega\n",
    "laser_power = calculate_power_needed(Omega, 1, D_TlF = 1, fwhm_z = fwhm_z, fwhm_y = fwhm_y)\n",
    "E_r = lambda r: multipassed_laser_E_field(r[2],r[1], power=laser_power, z0 = 3e-2/4,\n",
    "                                              fwhm_z = fwhm_z, fwhm_y = fwhm_y, n_passes = 11,\n",
    "                                              a = 0.002, t = 0.98)/E_peak\n",
    "\n",
    "Omega_r = lambda r:  Omega*E_r(r)"
   ]
  },
  {
   "cell_type": "code",
   "execution_count": null,
   "metadata": {},
   "outputs": [],
   "source": [
    "# t_test = np.linspace(0,T,10000)\n",
    "# z_test = np.linspace(z0,z1,10000)\n",
    "\n",
    "# E_test = np.array([E_r(np.array([0,0,z])) for z in z_test])\n",
    "# Omega_test = np.array([Omega_r(np.array([0,0,z]))/(2*np.pi*1e6) for z in z_test])\n",
    "\n",
    "# fig, ax = plt.subplots()\n",
    "# ax.plot(z_test, E_test)"
   ]
  },
  {
   "cell_type": "code",
   "execution_count": null,
   "metadata": {},
   "outputs": [],
   "source": [
    "laser_field = OpticalField(p_t = p_t, ground_states = ground_states_laser_approx,\n",
    "                          excited_states=excited_states_laser_approx, ground_main = ground_main_approx,\n",
    "                          excited_main = excited_main_approx, Omega_r = Omega_r, detuning = 0)"
   ]
  },
  {
   "cell_type": "code",
   "execution_count": null,
   "metadata": {},
   "outputs": [],
   "source": [
    "laser_fields = [laser_field]"
   ]
  },
  {
   "cell_type": "markdown",
   "metadata": {},
   "source": [
    "## Microwave fields"
   ]
  },
  {
   "cell_type": "code",
   "execution_count": null,
   "metadata": {},
   "outputs": [],
   "source": [
    "#Define Rabi rates\n",
    "Omega0 = 2*np.pi*0\n",
    "Omega1 = 2*np.pi*1e6*1\n",
    "Omega2 = 2*np.pi*1e6*1\n",
    "\n",
    "#Define polarizations\n",
    "#Microwave polarization switching frequency\n",
    "omega_p_mu = 0.1*Gamma\n",
    "\n",
    "#Define polarization vectors as function of time\n",
    "p0_t = lambda t: np.array([0, np.cos(omega_p_mu*t), np.sin(omega_p_mu*t)])\n",
    "p1_t = lambda t: np.array([0, np.cos(omega_p_mu*t+np.pi/4), np.sin(omega_p_mu*t+np.pi/4)])\n",
    "p2_t = lambda t: np.array([0, np.cos(omega_p_mu*t), np.sin(omega_p_mu*t)])"
   ]
  },
  {
   "cell_type": "code",
   "execution_count": null,
   "metadata": {},
   "outputs": [],
   "source": [
    "mu0 = MicrowaveField(Omega_peak=Omega0, p_t = p1_t, Jg = 0, Je = 1)\n",
    "mu1 = MicrowaveField(Omega_peak=Omega1, p_t = p1_t, Jg = 1, Je = 2)\n",
    "mu2 = MicrowaveField(Omega_peak=Omega2, p_t = p2_t, Jg = 2, Je = 3)\n",
    "microwave_fields = [mu0,mu1, mu2]"
   ]
  },
  {
   "cell_type": "markdown",
   "metadata": {},
   "source": [
    "## Initial populations"
   ]
  },
  {
   "cell_type": "code",
   "execution_count": null,
   "metadata": {},
   "outputs": [],
   "source": [
    "# Define states that are populated initially\n",
    "Js = [0,1,2,3]\n",
    "states_pop = [1*CoupledBasisState(F,mF,F1,J,I_F,I_Tl, electronic_state='X', P = (-1)**J, Omega = 0)\n",
    "              for J  in Js\n",
    "              for F1 in ni_range(np.abs(J-I_Tl),J+I_Tl+1)\n",
    "              for F in ni_range(np.abs(F1-I_F),F1+I_F+1)\n",
    "              for mF in ni_range(-F, F+1)\n",
    "             ]"
   ]
  },
  {
   "cell_type": "markdown",
   "metadata": {},
   "source": [
    "## Run the integrator"
   ]
  },
  {
   "cell_type": "code",
   "execution_count": null,
   "metadata": {
    "scrolled": false
   },
   "outputs": [],
   "source": [
    "%%time\n",
    "t_array, pop_results = OBE_integrator(X_states = ground_states_approx, B_states = excited_states_approx,\n",
    "                                       microwave_fields=microwave_fields, laser_fields = laser_fields,\n",
    "                                       states_pop = states_pop)"
   ]
  },
  {
   "cell_type": "markdown",
   "metadata": {},
   "source": [
    "## Plotting"
   ]
  },
  {
   "cell_type": "code",
   "execution_count": null,
   "metadata": {
    "scrolled": false
   },
   "outputs": [],
   "source": [
    "fig, ax = plt.subplots()\n",
    "ax.plot(t_array*1e6, pop_results.T);"
   ]
  },
  {
   "cell_type": "code",
   "execution_count": null,
   "metadata": {},
   "outputs": [],
   "source": [
    "#Plot populations in different J\n",
    "P0_triplet = np.sum(pop_results[1:4,:], axis = 0)\n",
    "P0_singlet = np.sum(pop_results[0:1,:], axis = 0)\n",
    "P1 = np.sum(pop_results[4:16,:], axis = 0)\n",
    "P2 = np.sum(pop_results[16:36,:], axis = 0)\n",
    "P3 = np.sum(pop_results[36:64,:], axis = 0)\n",
    "PB1 = np.sum(pop_results[64:,:], axis = 0)\n",
    "\n",
    "fig, ax = plt.subplots()\n",
    "ax.plot(t_array*1e6, P0_triplet, label = 'X, J = 0, F = 1')\n",
    "ax.plot(t_array*1e6, P0_singlet, label = 'X, J = 0, F = 0')\n",
    "ax.plot(t_array*1e6, P1, label = 'X, J = 1')\n",
    "ax.plot(t_array*1e6, P2, label = 'X, J = 2')\n",
    "ax.plot(t_array*1e6, P3, label = 'X, J = 3')\n",
    "ax.plot(t_array*1e6, PB1, label = 'B, J = 1')\n",
    "ax.legend()\n",
    "ax.set_xlabel(\"Time / us\")\n",
    "ax.set_ylabel(\"Population in state\")"
   ]
  },
  {
   "cell_type": "code",
   "execution_count": null,
   "metadata": {},
   "outputs": [],
   "source": [
    "np.min(PB1)"
   ]
  },
  {
   "cell_type": "code",
   "execution_count": null,
   "metadata": {},
   "outputs": [],
   "source": [
    "P0_singlet[-1]/P0_triplet[-1]"
   ]
  },
  {
   "cell_type": "code",
   "execution_count": null,
   "metadata": {},
   "outputs": [],
   "source": [
    "print(P0_triplet[-1])\n",
    "print(P0_singlet[-1])\n",
    "print(P1[-1])\n",
    "print(P2[-1])\n",
    "print(P3[-1])\n",
    "print(PB1[-1])"
   ]
  },
  {
   "cell_type": "code",
   "execution_count": null,
   "metadata": {},
   "outputs": [],
   "source": []
  },
  {
   "cell_type": "code",
   "execution_count": null,
   "metadata": {},
   "outputs": [],
   "source": []
  }
 ],
 "metadata": {
  "kernelspec": {
   "display_name": "Python 3",
   "language": "python",
   "name": "python3"
  },
  "language_info": {
   "codemirror_mode": {
    "name": "ipython",
    "version": 3
   },
   "file_extension": ".py",
   "mimetype": "text/x-python",
   "name": "python",
   "nbconvert_exporter": "python",
   "pygments_lexer": "ipython3",
   "version": "3.8.3"
  }
 },
 "nbformat": 4,
 "nbformat_minor": 4
}
