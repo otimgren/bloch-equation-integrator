{
 "cells": [
  {
   "cell_type": "markdown",
   "metadata": {},
   "source": [
    "# Rotational cooling OBE solver\n",
    "Using the script in \"OBE_integrator.py\" to simulate rotational cooling in CeNTREX with a single laser driving the rotational cooling transition from $|X, J = 2\\rangle$ to $|B, J =1, F_1 = 3/2, F = 1\\rangle$ and microwaves coupling $J = 1\\leftrightarrow2$ and $J = 2\\leftrightarrow3$. This notebook demonstrates how to setup the system to be simulated."
   ]
  },
  {
   "cell_type": "code",
   "execution_count": null,
   "metadata": {},
   "outputs": [],
   "source": [
    "#Import packages\n",
    "%load_ext autoreload\n",
    "%autoreload 2\n",
    "import sys\n",
    "import numpy as np\n",
    "sys.path.append('./molecular-state-classes-and-functions/')\n",
    "from classes import UncoupledBasisState, CoupledBasisState, State\n",
    "from functions import ni_range\n",
    "from OBE_functions import calculate_power_needed, multipassed_laser_E_field\n",
    "\n",
    "import matplotlib.pyplot as plt\n",
    "%matplotlib notebook\n",
    "\n",
    "#Import classes for defining laser and microwave fields\n",
    "from OBE_classes import OpticalField, MicrowaveField\n",
    "\n",
    "#Import the OBE integrator script\n",
    "from OBE_integrator import OBE_integrator\n",
    "\n",
    "from functools import partial"
   ]
  },
  {
   "cell_type": "markdown",
   "metadata": {},
   "source": [
    "## X-state\n",
    "Define what states from the $X ^1\\Sigma$ electronic state are to be included in the simulation. Here using all states within J = 0-3"
   ]
  },
  {
   "cell_type": "code",
   "execution_count": null,
   "metadata": {},
   "outputs": [],
   "source": [
    "#Define what states are to be included in the simulation\n",
    "Js_g = [0,1,2,3] # J values to be included\n",
    "I_F = 1/2 #Fluorine nuclear spin\n",
    "I_Tl = 1/2 #Thallium nuclear spin\n",
    "\n",
    "#Generate a list of approximate ground states. The exact ground states are determined within the main\n",
    "#simulation function\n",
    "ground_states_approx = [1*CoupledBasisState(F,mF,F1,J,I_F,I_Tl, electronic_state='X', P = (-1)**J, Omega = 0)\n",
    "                  for J  in Js_g\n",
    "                  for F1 in ni_range(np.abs(J-I_F),J+I_F+1)\n",
    "                  for F in ni_range(np.abs(F1-I_Tl),F1+I_Tl+1)\n",
    "                  for mF in ni_range(-F, F+1)\n",
    "                 ]"
   ]
  },
  {
   "cell_type": "markdown",
   "metadata": {},
   "source": [
    "## B-state\n",
    "Define what states from the $B ^3\\Pi_1$ electronic state are to be included in the simulation. Only need the states that are coupled to J = 1 in the X-state by the laser."
   ]
  },
  {
   "cell_type": "code",
   "execution_count": null,
   "metadata": {},
   "outputs": [],
   "source": [
    "#Define natural linewidth of excited state\n",
    "Gamma = 2*np.pi*1.6e6"
   ]
  },
  {
   "cell_type": "code",
   "execution_count": null,
   "metadata": {},
   "outputs": [],
   "source": [
    "#Define what states are to be included in the simulation\n",
    "J = 1\n",
    "F1 = 3/2\n",
    "F = 1\n",
    "#Generate a list of excited states. The exact excited states are determined within the main\n",
    "#simulation function\n",
    "excited_states_approx = [1*CoupledBasisState(F,mF,F1,J,I_F,I_Tl, electronic_state='B', P = -1, Omega = 1)\n",
    "                  for mF in ni_range(-F, F+1)\n",
    "                 ]"
   ]
  },
  {
   "cell_type": "markdown",
   "metadata": {},
   "source": [
    "## Laser field\n",
    "This section defines the laser field that is driving rotational cooling. \n",
    "\n",
    "Goes as follows:\n",
    "- First define the ground and excited states that are connected by the laser\n",
    "- Define polarization of laser as function of time. The polarization also includes phase modulation if that's needed.\n",
    "- Define spatial profile of laser beam\n",
    "- Define a LaserField object that is eventually passed to the "
   ]
  },
  {
   "cell_type": "code",
   "execution_count": null,
   "metadata": {},
   "outputs": [],
   "source": [
    "#Define ground states for laser driven transition\n",
    "Js = [2]\n",
    "ground_states_laser_approx =  [1*CoupledBasisState(F,mF,F1,J,I_F,I_Tl, electronic_state='X', P = (-1)**J, Omega = 0)\n",
    "                                  for J  in Js\n",
    "                                  for F1 in ni_range(np.abs(J-I_F),J+I_F+1)\n",
    "                                  for F in ni_range(np.abs(F1-I_Tl),F1+I_Tl+1)\n",
    "                                  for mF in ni_range(-F, F+1)\n",
    "                                 ]\n",
    "\n",
    "#Define excited states for laser\n",
    "excited_states_laser_approx = excited_states_approx"
   ]
  },
  {
   "cell_type": "code",
   "execution_count": null,
   "metadata": {},
   "outputs": [],
   "source": [
    "#Define the \"main\" states. These are used to calculate the detunings and Rabi rates for the transitions\n",
    "ground_main_approx = 1*CoupledBasisState(J=2,F1=5/2,F=2,mF=0,I1=1/2,I2=1/2,electronic_state='X', P = 1, Omega = 0)\n",
    "excited_main_approx = 1*CoupledBasisState(J = 1,F1=3/2,F=1,mF=0,I1=1/2,I2=1/2, electronic_state='B', P = -1, Omega = 1)"
   ]
  },
  {
   "cell_type": "code",
   "execution_count": null,
   "metadata": {},
   "outputs": [],
   "source": [
    "#Polarization as function of time. Also includes phase modulation if that's desired\n",
    "omega_p = .25*Gamma #Frequency for polarization switching [2pi*Hz]\n",
    "beta = 0 #Modulation depth for phase modulation\n",
    "omega_sb = 2*np.pi*1.6e6 #Modulation frequency\n",
    "\n",
    "#Define polarization as function of time\n",
    "p_t = lambda omega_p, beta, omega_sb,t: np.array([np.sin(omega_p*t), 0, np.cos(omega_p*t)]) * np.exp(1j*beta*np.sin(omega_sb*t))\n",
    "p_t = partial(p_t, omega_p, beta, omega_sb)\n",
    "\n",
    "\n",
    "#Generate a spatial profile for the Rabi rate\n",
    "Omega = 2*np.pi*1e6 #Peak Rate for laser\n",
    "fwhm_z = 1e-3 #FWHM along molecular beam flight direction\n",
    "fwhm_y = 5e-3 #FWHM along height of beam\n",
    "\n",
    "#Define spatial profile of laser\n",
    "E_peak = Omega \n",
    "laser_power = calculate_power_needed(Omega, 1, D_TlF = 1, fwhm_z = fwhm_z, fwhm_y = fwhm_y)\n",
    "E_r = lambda r: multipassed_laser_E_field(r[2],r[1], power=laser_power, z0 = 3e-2/4,\n",
    "                                              fwhm_z = fwhm_z, fwhm_y = fwhm_y, n_passes = 11,\n",
    "                                              a = 0.002, t = 0.98)/E_peak\n",
    "Omega_r = lambda r:  Omega*E_r(r)"
   ]
  },
  {
   "cell_type": "code",
   "execution_count": null,
   "metadata": {},
   "outputs": [],
   "source": [
    "# t_test = np.linspace(0,T,10000)\n",
    "# z_test = np.linspace(z0,z1,10000)\n",
    "\n",
    "# E_test = np.array([E_r(np.array([0,0,z])) for z in z_test])\n",
    "# Omega_test = np.array([Omega_r(np.array([0,0,z]))/(2*np.pi*1e6) for z in z_test])\n",
    "\n",
    "# fig, ax = plt.subplots()\n",
    "# ax.plot(z_test, E_test)"
   ]
  },
  {
   "cell_type": "code",
   "execution_count": null,
   "metadata": {},
   "outputs": [],
   "source": [
    "#Define a LaserField object. Detuning set to zero\n",
    "laser_field = OpticalField(p_t = p_t, ground_states = ground_states_laser_approx,\n",
    "                          excited_states=excited_states_laser_approx, ground_main = ground_main_approx,\n",
    "                          excited_main = excited_main_approx, Omega_r = Omega_r, detuning = 0)"
   ]
  },
  {
   "cell_type": "code",
   "execution_count": null,
   "metadata": {},
   "outputs": [],
   "source": [
    "#The solver expects a list of LaserField objects so make one. Need a list to allow multiple lasers\n",
    "laser_fields = [laser_field]"
   ]
  },
  {
   "cell_type": "markdown",
   "metadata": {},
   "source": [
    "## Microwave fields\n",
    "Define the microwave fields. Simular to LaserFields but use MicrowaveField objects. Don't need to explicitly define the ground and excited states, only the values of J for the levels that are coupled"
   ]
  },
  {
   "cell_type": "code",
   "execution_count": null,
   "metadata": {},
   "outputs": [],
   "source": [
    "#Define Rabi rates\n",
    "Omega0 = 2*np.pi*0\n",
    "Omega1 = 2*np.pi*1e6\n",
    "Omega2 = 2*np.pi*1e6\n",
    "\n",
    "#Define polarizations\n",
    "#Microwave polarization switching frequency\n",
    "omega_p_mu = 0.1*Gamma\n",
    "\n",
    "#Define polarization vectors as function of time\n",
    "p0_t = lambda omega_p_mu, t: np.array([0, np.cos(omega_p_mu*t), np.sin(omega_p_mu*t)])\n",
    "p0_t = partial(p0_t, omega_p_mu)\n",
    "\n",
    "p1_t = lambda omega_p_mu, t: np.array([0, np.cos(omega_p_mu*t+np.pi/4), np.sin(omega_p_mu*t+np.pi/4)])\n",
    "p1_t = partial(p1_t, omega_p_mu)\n",
    "\n",
    "p2_t = lambda omega_p_mu, t: np.array([0, np.cos(omega_p_mu*t), np.sin(omega_p_mu*t)])\n",
    "p2_t = partial(p2_t, omega_p_mu)\n"
   ]
  },
  {
   "cell_type": "code",
   "execution_count": null,
   "metadata": {},
   "outputs": [],
   "source": [
    "#Define MicrowaveFields\n",
    "mu0 = MicrowaveField(Omega_peak=Omega0, p_t = p1_t, Jg = 0, Je = 1)\n",
    "mu1 = MicrowaveField(Omega_peak=Omega1, p_t = p1_t, Jg = 1, Je = 2)\n",
    "mu2 = MicrowaveField(Omega_peak=Omega2, p_t = p2_t, Jg = 2, Je = 3)\n",
    "\n",
    "#Make a list of the MicrowaveFields. mu0 not really needed if Omega0 = 0\n",
    "microwave_fields = [mu0, mu1, mu2]"
   ]
  },
  {
   "cell_type": "markdown",
   "metadata": {},
   "source": [
    "## Initial populations\n",
    "Define states that are populated initially. A Boltzmann distribution is assumed, unless otherwise specified by passing a list of populations to integrator function"
   ]
  },
  {
   "cell_type": "code",
   "execution_count": null,
   "metadata": {},
   "outputs": [],
   "source": [
    "# Define states that are populated initially\n",
    "Js = [0,1,2,3]\n",
    "states_pop = [1*CoupledBasisState(F,mF,F1,J,I_F,I_Tl, electronic_state='X', P = (-1)**J, Omega = 0)\n",
    "              for J  in Js\n",
    "              for F1 in ni_range(np.abs(J-I_Tl),J+I_Tl+1)\n",
    "              for F in ni_range(np.abs(F1-I_F),F1+I_F+1)\n",
    "              for mF in ni_range(-F, F+1)\n",
    "             ]"
   ]
  },
  {
   "cell_type": "markdown",
   "metadata": {},
   "source": [
    "## Run the integrator\n",
    "Run the integrator using both the exponentiation and the RK45 methods"
   ]
  },
  {
   "cell_type": "code",
   "execution_count": null,
   "metadata": {
    "scrolled": false
   },
   "outputs": [],
   "source": [
    "%%time\n",
    "t_array_exp, pop_results_exp = OBE_integrator(X_states = ground_states_approx, B_states = excited_states_approx,\n",
    "                                       microwave_fields=microwave_fields, laser_fields = laser_fields,\n",
    "                                       states_pop = states_pop, method = 'exp', verbose = False)"
   ]
  },
  {
   "cell_type": "code",
   "execution_count": null,
   "metadata": {},
   "outputs": [],
   "source": [
    "%%time\n",
    "t_array_RK45, pop_results_RK45 = OBE_integrator(X_states = ground_states_approx, B_states = excited_states_approx,\n",
    "                                       microwave_fields=microwave_fields, laser_fields = laser_fields,\n",
    "                                       states_pop = states_pop, method = 'RK45', verbose = False)"
   ]
  },
  {
   "cell_type": "markdown",
   "metadata": {},
   "source": [
    "## Plotting"
   ]
  },
  {
   "cell_type": "code",
   "execution_count": null,
   "metadata": {},
   "outputs": [],
   "source": [
    "#Plot populations in different J over time when using the exponentiation method\n",
    "P0_triplet_exp = np.sum(pop_results_exp[1:4,:], axis = 0)\n",
    "P0_singlet_exp = np.sum(pop_results_exp[0:1,:], axis = 0)\n",
    "P1_exp = np.sum(pop_results_exp[4:16,:], axis = 0)\n",
    "P2_exp = np.sum(pop_results_exp[16:36,:], axis = 0)\n",
    "P3_exp = np.sum(pop_results_exp[36:64,:], axis = 0)\n",
    "PB1_exp = np.sum(pop_results_exp[64:,:], axis = 0)\n",
    "\n",
    "fig, ax = plt.subplots()\n",
    "ax.plot(t_array_exp*1e6, P0_triplet_exp, label = 'X, J = 0, F = 1')\n",
    "ax.plot(t_array_exp*1e6, P0_singlet_exp, label = 'X, J = 0, F = 0')\n",
    "ax.plot(t_array_exp*1e6, P1_exp, label = 'X, J = 1')\n",
    "ax.plot(t_array_exp*1e6, P2_exp, label = 'X, J = 2')\n",
    "ax.plot(t_array_exp*1e6, P3_exp, label = 'X, J = 3')\n",
    "ax.plot(t_array_exp*1e6, PB1_exp, label = 'B, J = 1')\n",
    "ax.legend()\n",
    "ax.set_xlabel(\"Time / us\")\n",
    "ax.set_ylabel(\"Population in state\")"
   ]
  },
  {
   "cell_type": "code",
   "execution_count": null,
   "metadata": {},
   "outputs": [],
   "source": [
    "#Plot populations in different J over time when using the RK45 method\n",
    "P0_triplet_RK45 = np.sum(pop_results_RK45[1:4,:], axis = 0)\n",
    "P0_singlet_RK45 = np.sum(pop_results_RK45[0:1,:], axis = 0)\n",
    "P1_RK45 = np.sum(pop_results_RK45[4:16,:], axis = 0)\n",
    "P2_RK45 = np.sum(pop_results_RK45[16:36,:], axis = 0)\n",
    "P3_RK45 = np.sum(pop_results_RK45[36:64,:], axis = 0)\n",
    "PB1_RK45 = np.sum(pop_results_RK45[64:,:], axis = 0)\n",
    "\n",
    "fig, ax = plt.subplots()\n",
    "ax.plot(t_array_RK45*1e6, P0_triplet_RK45, label = 'X, J = 0, F = 1')\n",
    "ax.plot(t_array_RK45*1e6, P0_singlet_RK45, label = 'X, J = 0, F = 0')\n",
    "ax.plot(t_array_RK45*1e6, P1_RK45, label = 'X, J = 1')\n",
    "ax.plot(t_array_RK45*1e6, P2_RK45, label = 'X, J = 2')\n",
    "ax.plot(t_array_RK45*1e6, P3_RK45, label = 'X, J = 3')\n",
    "ax.plot(t_array_RK45*1e6, PB1_RK45, label = 'B, J = 1')\n",
    "ax.legend()\n",
    "ax.set_xlabel(\"Time / us\")\n",
    "ax.set_ylabel(\"Population in state\")"
   ]
  },
  {
   "cell_type": "code",
   "execution_count": null,
   "metadata": {},
   "outputs": [],
   "source": [
    "#Check that there are no negative populations\n",
    "print(np.min(pop_results_exp))\n",
    "print(np.min(pop_results_RK45))"
   ]
  },
  {
   "cell_type": "code",
   "execution_count": null,
   "metadata": {},
   "outputs": [],
   "source": [
    "print(P0_singlet_exp[-1]/P0_triplet_exp[-1])\n",
    "print(P0_singlet_RK45[-1]/P0_triplet_RK45[-1])"
   ]
  },
  {
   "cell_type": "code",
   "execution_count": null,
   "metadata": {},
   "outputs": [],
   "source": [
    "#Print final populations in each state\n",
    "print(P0_triplet_exp[-1])\n",
    "print(P0_singlet_exp[-1])\n",
    "print(P1_exp[-1])\n",
    "print(P2_exp[-1])\n",
    "print(P3_exp[-1])\n",
    "print(PB1_exp[-1])"
   ]
  },
  {
   "cell_type": "code",
   "execution_count": null,
   "metadata": {},
   "outputs": [],
   "source": [
    "#Print final populations in each state\n",
    "print(P0_triplet_RK45[-1])\n",
    "print(P0_singlet_RK45[-1])\n",
    "print(P1_RK45[-1])\n",
    "print(P2_RK45[-1])\n",
    "print(P3_RK45[-1])\n",
    "print(PB1_RK45[-1])"
   ]
  },
  {
   "cell_type": "code",
   "execution_count": null,
   "metadata": {},
   "outputs": [],
   "source": []
  }
 ],
 "metadata": {
  "kernelspec": {
   "display_name": "Python 3",
   "language": "python",
   "name": "python3"
  },
  "language_info": {
   "codemirror_mode": {
    "name": "ipython",
    "version": 3
   },
   "file_extension": ".py",
   "mimetype": "text/x-python",
   "name": "python",
   "nbconvert_exporter": "python",
   "pygments_lexer": "ipython3",
   "version": "3.8.3"
  }
 },
 "nbformat": 4,
 "nbformat_minor": 4
}
