{
 "cells": [
  {
   "cell_type": "markdown",
   "metadata": {},
   "source": [
    "Testing the functions that are used to transform operators to Liouville space. Comparing to some old code written on mathematica (\"Microwave STIRAP - density matrix.nb\")"
   ]
  },
  {
   "cell_type": "code",
   "execution_count": null,
   "metadata": {},
   "outputs": [],
   "source": [
    "import numpy as np\n",
    "from OBE_functions import generate_flat_superoperator, generate_sharp_superoperator, generate_commutator_superoperator"
   ]
  },
  {
   "cell_type": "code",
   "execution_count": null,
   "metadata": {},
   "outputs": [],
   "source": [
    "#Define the \"operator\" to be transformed\n",
    "M = np.array([(1,2),(3,4)])\n",
    "print(\"M =\\n {}\".format(M))\n",
    "\n",
    "#Flat superoperator\n",
    "M_flat = generate_flat_superoperator(M)\n",
    "print(\"\\nM_flat =\\n {}\".format(M_flat))\n",
    "\n",
    "\n",
    "#Sharp superoperator\n",
    "M_sharp = generate_sharp_superoperator(M)\n",
    "print(\"\\nM_sharp =\\n {}\".format(M_sharp))\n",
    "\n",
    "#Commutator superoperator\n",
    "M_com = generate_commutator_superoperator(M)\n",
    "print(\"\\nM_com =\\n {}\".format(M_com))"
   ]
  }
 ],
 "metadata": {
  "kernelspec": {
   "display_name": "Python 3",
   "language": "python",
   "name": "python3"
  },
  "language_info": {
   "codemirror_mode": {
    "name": "ipython",
    "version": 3
   },
   "file_extension": ".py",
   "mimetype": "text/x-python",
   "name": "python",
   "nbconvert_exporter": "python",
   "pygments_lexer": "ipython3",
   "version": "3.7.6"
  }
 },
 "nbformat": 4,
 "nbformat_minor": 4
}
